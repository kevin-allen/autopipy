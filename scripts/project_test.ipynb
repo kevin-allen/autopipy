{
 "cells": [
  {
   "cell_type": "markdown",
   "id": "editorial-owner",
   "metadata": {},
   "source": [
    "# Project class\n",
    "\n",
    "This notebook is used to test the project class.\n"
   ]
  },
  {
   "cell_type": "code",
   "execution_count": 83,
   "id": "chicken-apartment",
   "metadata": {},
   "outputs": [],
   "source": [
    "import autopipy"
   ]
  },
  {
   "cell_type": "code",
   "execution_count": 84,
   "id": "portable-adaptation",
   "metadata": {},
   "outputs": [],
   "source": [
    "from autopipy.project import project\n",
    "from autopipy.session import session"
   ]
  },
  {
   "cell_type": "markdown",
   "id": "finnish-persian",
   "metadata": {},
   "source": [
    "## Creating a project"
   ]
  },
  {
   "cell_type": "code",
   "execution_count": 85,
   "id": "typical-injury",
   "metadata": {},
   "outputs": [
    {
     "name": "stdout",
     "output_type": "stream",
     "text": [
      "Project name: testProject\n",
      "dataPath: /adata/electro\n",
      "dlcModelPath: /adata/models\n"
     ]
    }
   ],
   "source": [
    "name = \"testProject\"\n",
    "dataPath = \"/adata/electro\"\n",
    "dlcModelPath = \"/adata/models\"\n",
    "proj = project(name,dataPath,dlcModelPath)"
   ]
  },
  {
   "cell_type": "markdown",
   "id": "registered-trinidad",
   "metadata": {},
   "source": [
    "Creating a session object from sessionName and project"
   ]
  },
  {
   "cell_type": "code",
   "execution_count": 86,
   "id": "informative-aggregate",
   "metadata": {},
   "outputs": [
    {
     "name": "stdout",
     "output_type": "stream",
     "text": [
      "<class 'autopipy.session.session'>\n",
      "name = mn4656-03102019-1510\n",
      "path = /adata/electro/mn4656/mn4656-03102019-1510\n",
      "fileBase = /adata/electro/mn4656/mn4656-03102019-1510/mn4656-03102019-1510\n",
      "arenaTopVideo = True\n",
      "homeBaseVideo = True\n",
      "requiredFileExts = ['log', 'protocol', 'arena_top.avi', 'arena_top.log', 'home_base.avi', 'home_base.log']\n",
      "dirOk = True\n",
      "arenaTopCropped = True\n",
      "fileNames = {'log': '/adata/electro/mn4656/mn4656-03102019-1510/mn4656-03102019-1510.log', 'protocol': '/adata/electro/mn4656/mn4656-03102019-1510/mn4656-03102019-1510.protocol', 'arena_top.avi': '/adata/electro/mn4656/mn4656-03102019-1510/mn4656-03102019-1510.arena_top.avi', 'arena_top.cropped.avi': '/adata/electro/mn4656/mn4656-03102019-1510/mn4656-03102019-1510.arena_top.cropped.avi'}\n"
     ]
    }
   ],
   "source": [
    "sessionName = \"mn4656-03102019-1510\"\n",
    "sessionPath = proj.sessionPathFromSessionName(sessionName)\n",
    "s = session(name = sessionName, path = sessionPath)\n",
    "print(s)"
   ]
  },
  {
   "cell_type": "markdown",
   "id": "hydraulic-package",
   "metadata": {},
   "source": [
    "## Creating a list of sessions for the project"
   ]
  },
  {
   "cell_type": "code",
   "execution_count": 90,
   "id": "split-suggestion",
   "metadata": {},
   "outputs": [
    {
     "name": "stdout",
     "output_type": "stream",
     "text": [
      "Number of sessions: 5\n",
      "<class 'autopipy.session.session'>\n"
     ]
    }
   ],
   "source": [
    "# first get a list of session names\n",
    "sessionNameList = [\"mn4656-03102019-1510\",\"mn4656-04102019-1436\",\"mn4656-05102019-1414\",\"mn4656-10112019-1429\",\"mn4656-19092019-1707\"]\n",
    "proj.createSessionList(sessionNameList)\n",
    "# the session list is stored in the project object (proj.sessionList)\n",
    "print(\"Number of sessions: {}\".format(len(proj.sessionList)))\n",
    "print(type(proj.sessionList[0]))"
   ]
  },
  {
   "cell_type": "markdown",
   "id": "indirect-portrait",
   "metadata": {},
   "source": [
    "## Run a function on all the sessions"
   ]
  },
  {
   "cell_type": "markdown",
   "id": "applied-cisco",
   "metadata": {},
   "source": [
    "To apply a function to the session objects of a list of sessions, we can use a **list comprehension**. \n",
    "If you are not familiar with list comprehensions, it might be worth reading on the subject: https://www.w3schools.com/python/python_lists_comprehension.asp"
   ]
  },
  {
   "cell_type": "code",
   "execution_count": 91,
   "id": "significant-spanking",
   "metadata": {},
   "outputs": [
    {
     "data": {
      "text/plain": [
       "['/adata/electro/mn4656/mn4656-03102019-1510',\n",
       " '/adata/electro/mn4656/mn4656-04102019-1436',\n",
       " '/adata/electro/mn4656/mn4656-05102019-1414',\n",
       " '/adata/electro/mn4656/mn4656-10112019-1429',\n",
       " '/adata/electro/mn4656/mn4656-19092019-1707']"
      ]
     },
     "execution_count": 91,
     "metadata": {},
     "output_type": "execute_result"
    }
   ],
   "source": [
    "[ session.path for session in proj.sessionList]"
   ]
  },
  {
   "cell_type": "markdown",
   "id": "eight-copying",
   "metadata": {},
   "source": [
    "Here we are checking the session directory of all our sessions"
   ]
  },
  {
   "cell_type": "code",
   "execution_count": 93,
   "id": "induced-regard",
   "metadata": {},
   "outputs": [
    {
     "name": "stdout",
     "output_type": "stream",
     "text": [
      "/adata/electro/mn4656/mn4656-19092019-1707/mn4656-19092019-1707.arena_top.log does not exist\n"
     ]
    },
    {
     "ename": "OSError",
     "evalue": "/adata/electro/mn4656/mn4656-19092019-1707/mn4656-19092019-1707.arena_top.log does not exist",
     "output_type": "error",
     "traceback": [
      "\u001b[0;31m---------------------------------------------------------------------------\u001b[0m",
      "\u001b[0;31mOSError\u001b[0m                                   Traceback (most recent call last)",
      "\u001b[0;32m<ipython-input-93-d41c95a6a224>\u001b[0m in \u001b[0;36m<module>\u001b[0;34m\u001b[0m\n\u001b[0;32m----> 1\u001b[0;31m \u001b[0;34m[\u001b[0m \u001b[0msession\u001b[0m\u001b[0;34m.\u001b[0m\u001b[0mcheckSessionDirectory\u001b[0m\u001b[0;34m(\u001b[0m\u001b[0;34m)\u001b[0m \u001b[0;32mfor\u001b[0m \u001b[0msession\u001b[0m \u001b[0;32min\u001b[0m \u001b[0mproj\u001b[0m\u001b[0;34m.\u001b[0m\u001b[0msessionList\u001b[0m \u001b[0;34m]\u001b[0m\u001b[0;34m\u001b[0m\u001b[0;34m\u001b[0m\u001b[0m\n\u001b[0m",
      "\u001b[0;32m<ipython-input-93-d41c95a6a224>\u001b[0m in \u001b[0;36m<listcomp>\u001b[0;34m(.0)\u001b[0m\n\u001b[0;32m----> 1\u001b[0;31m \u001b[0;34m[\u001b[0m \u001b[0msession\u001b[0m\u001b[0;34m.\u001b[0m\u001b[0mcheckSessionDirectory\u001b[0m\u001b[0;34m(\u001b[0m\u001b[0;34m)\u001b[0m \u001b[0;32mfor\u001b[0m \u001b[0msession\u001b[0m \u001b[0;32min\u001b[0m \u001b[0mproj\u001b[0m\u001b[0;34m.\u001b[0m\u001b[0msessionList\u001b[0m \u001b[0;34m]\u001b[0m\u001b[0;34m\u001b[0m\u001b[0;34m\u001b[0m\u001b[0m\n\u001b[0m",
      "\u001b[0;32m~/repo/autopipy/autopipy/session.py\u001b[0m in \u001b[0;36mcheckSessionDirectory\u001b[0;34m(self)\u001b[0m\n\u001b[1;32m     66\u001b[0m             \u001b[0;32mif\u001b[0m \u001b[0mos\u001b[0m\u001b[0;34m.\u001b[0m\u001b[0mpath\u001b[0m\u001b[0;34m.\u001b[0m\u001b[0misfile\u001b[0m\u001b[0;34m(\u001b[0m\u001b[0mfileName\u001b[0m\u001b[0;34m)\u001b[0m\u001b[0;34m==\u001b[0m \u001b[0;32mFalse\u001b[0m\u001b[0;34m:\u001b[0m\u001b[0;34m\u001b[0m\u001b[0;34m\u001b[0m\u001b[0m\n\u001b[1;32m     67\u001b[0m                 \u001b[0mprint\u001b[0m\u001b[0;34m(\u001b[0m\u001b[0mfileName\u001b[0m \u001b[0;34m+\u001b[0m \u001b[0;34m\" does not exist\"\u001b[0m\u001b[0;34m)\u001b[0m\u001b[0;34m\u001b[0m\u001b[0;34m\u001b[0m\u001b[0m\n\u001b[0;32m---> 68\u001b[0;31m                 \u001b[0;32mraise\u001b[0m \u001b[0mIOError\u001b[0m\u001b[0;34m(\u001b[0m\u001b[0mfileName\u001b[0m \u001b[0;34m+\u001b[0m \u001b[0;34m\" does not exist\"\u001b[0m\u001b[0;34m)\u001b[0m \u001b[0;31m# raise an exception\u001b[0m\u001b[0;34m\u001b[0m\u001b[0;34m\u001b[0m\u001b[0m\n\u001b[0m\u001b[1;32m     69\u001b[0m         \u001b[0;32mreturn\u001b[0m \u001b[0;32mTrue\u001b[0m\u001b[0;34m\u001b[0m\u001b[0;34m\u001b[0m\u001b[0m\n\u001b[1;32m     70\u001b[0m \u001b[0;34m\u001b[0m\u001b[0m\n",
      "\u001b[0;31mOSError\u001b[0m: /adata/electro/mn4656/mn4656-19092019-1707/mn4656-19092019-1707.arena_top.log does not exist"
     ]
    }
   ],
   "source": [
    "[ session.checkSessionDirectory() for session in proj.sessionList ]"
   ]
  },
  {
   "cell_type": "code",
   "execution_count": null,
   "id": "perceived-recruitment",
   "metadata": {},
   "outputs": [],
   "source": []
  }
 ],
 "metadata": {
  "kernelspec": {
   "display_name": "Python 3",
   "language": "python",
   "name": "python3"
  },
  "language_info": {
   "codemirror_mode": {
    "name": "ipython",
    "version": 3
   },
   "file_extension": ".py",
   "mimetype": "text/x-python",
   "name": "python",
   "nbconvert_exporter": "python",
   "pygments_lexer": "ipython3",
   "version": "3.7.9"
  }
 },
 "nbformat": 4,
 "nbformat_minor": 5
}
