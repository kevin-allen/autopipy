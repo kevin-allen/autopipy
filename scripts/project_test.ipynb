{
 "cells": [
  {
   "cell_type": "markdown",
   "id": "sunrise-antenna",
   "metadata": {},
   "source": [
    "# Project class\n",
    "\n",
    "This notebook is used to test the project class.\n"
   ]
  },
  {
   "cell_type": "code",
   "execution_count": 34,
   "id": "complex-curve",
   "metadata": {},
   "outputs": [],
   "source": [
    "import importlib\n",
    "import autopipy"
   ]
  },
  {
   "cell_type": "code",
   "execution_count": 35,
   "id": "bound-mirror",
   "metadata": {},
   "outputs": [],
   "source": [
    "importlib.reload(autopipy.project)\n",
    "from autopipy.project import project\n",
    "from autopipy.session import session"
   ]
  },
  {
   "cell_type": "markdown",
   "id": "indirect-semester",
   "metadata": {},
   "source": [
    "## Creating a project"
   ]
  },
  {
   "cell_type": "code",
   "execution_count": 36,
   "id": "lonely-story",
   "metadata": {},
   "outputs": [
    {
     "name": "stdout",
     "output_type": "stream",
     "text": [
      "Project name: testProject\n",
      "dataPath: /adata/electro\n",
      "dlcModelPath: /adata/models\n"
     ]
    }
   ],
   "source": [
    "name = \"testProject\"\n",
    "dataPath = \"/adata/electro\"\n",
    "dlcModelPath = \"/adata/models\"\n",
    "proj = project(name,dataPath,dlcModelPath)"
   ]
  },
  {
   "cell_type": "markdown",
   "id": "vulnerable-empty",
   "metadata": {},
   "source": [
    "Creating a session object from sessionName and project"
   ]
  },
  {
   "cell_type": "code",
   "execution_count": 37,
   "id": "noticed-cooking",
   "metadata": {},
   "outputs": [
    {
     "name": "stdout",
     "output_type": "stream",
     "text": [
      "<class 'autopipy.session.session'>\n",
      "path = /adata/electro/mn4656/mn4656-03102019-1510\n",
      "name = mn4656-03102019-1510\n",
      "fileBase = /adata/electro/mn4656/mn4656-03102019-1510/mn4656-03102019-1510\n",
      "arenaTopVideo = True\n",
      "homeBaseVideo = True\n",
      "requiredFileExts = ['log', 'protocol', 'arena_top.avi', 'arena_top.log', 'home_base.avi', 'home_base.log']\n",
      "dirOk = True\n",
      "arenaTopCropped = True\n",
      "fileNames = {'log': '/adata/electro/mn4656/mn4656-03102019-1510/mn4656-03102019-1510.log', 'protocol': '/adata/electro/mn4656/mn4656-03102019-1510/mn4656-03102019-1510.protocol', 'arena_top.avi': '/adata/electro/mn4656/mn4656-03102019-1510/mn4656-03102019-1510.arena_top.avi', 'arena_top.cropped.avi': '/adata/electro/mn4656/mn4656-03102019-1510/mn4656-03102019-1510.arena_top.cropped.avi'}\n"
     ]
    }
   ],
   "source": [
    "sessionName = \"mn4656-03102019-1510\"\n",
    "sessionPath = proj.sessionPathFromSessionName(sessionName)\n",
    "s = session(name = sessionName, path = sessionPath)\n",
    "print(s)"
   ]
  },
  {
   "cell_type": "markdown",
   "id": "extreme-vision",
   "metadata": {},
   "source": [
    "## Creating a list of sessions for the project"
   ]
  },
  {
   "cell_type": "code",
   "execution_count": 72,
   "id": "fabulous-offense",
   "metadata": {},
   "outputs": [
    {
     "name": "stdout",
     "output_type": "stream",
     "text": [
      "Number of sessions: 3\n",
      "<class 'autopipy.session.session'>\n"
     ]
    }
   ],
   "source": [
    "# first get a list of session names\n",
    "sessionNameList = [\"mn4656-03102019-1510\",\"mn4656-04102019-1436\",\"mn4656-05102019-1414\"]\n",
    "proj.createSessionList(sessionNameList)\n",
    "# the session list is stored in the project object (proj.sessionList)\n",
    "print(\"Number of sessions: {}\".format(len(proj.sessionList)))\n",
    "print(type(proj.sessionList[0]))"
   ]
  },
  {
   "cell_type": "markdown",
   "id": "planned-publisher",
   "metadata": {},
   "source": [
    "## Run a function on all the sessions"
   ]
  },
  {
   "cell_type": "markdown",
   "id": "simplified-puzzle",
   "metadata": {},
   "source": [
    "To apply a function to the session objects of a list of sessions, we can use a **list comprehension**. \n",
    "If you are not familiar with list comprehensions, it might be worth reading on the subject: https://www.w3schools.com/python/python_lists_comprehension.asp"
   ]
  },
  {
   "cell_type": "code",
   "execution_count": 73,
   "id": "severe-memory",
   "metadata": {},
   "outputs": [
    {
     "data": {
      "text/plain": [
       "['/adata/electro/mn4656/mn4656-03102019-1510',\n",
       " '/adata/electro/mn4656/mn4656-04102019-1436',\n",
       " '/adata/electro/mn4656/mn4656-05102019-1414']"
      ]
     },
     "execution_count": 73,
     "metadata": {},
     "output_type": "execute_result"
    }
   ],
   "source": [
    "[ session.path for session in proj.sessionList]"
   ]
  },
  {
   "cell_type": "code",
   "execution_count": 69,
   "id": "standard-superintendent",
   "metadata": {},
   "outputs": [
    {
     "data": {
      "text/plain": [
       "[True, True, True]"
      ]
     },
     "execution_count": 69,
     "metadata": {},
     "output_type": "execute_result"
    }
   ],
   "source": [
    "[ session.checkSessionDirectory() for session in proj.sessionList]"
   ]
  },
  {
   "cell_type": "code",
   "execution_count": null,
   "id": "seasonal-tender",
   "metadata": {},
   "outputs": [],
   "source": [
    "importlib.reload(autopipy.project)\n",
    "importlib.reload(autopipy.session)\n",
    "from autopipy.project import project\n",
    "from autopipy.session import session\n",
    "importlib.reload(autopipy.project)\n"
   ]
  }
 ],
 "metadata": {
  "kernelspec": {
   "display_name": "Python 3",
   "language": "python",
   "name": "python3"
  },
  "language_info": {
   "codemirror_mode": {
    "name": "ipython",
    "version": 3
   },
   "file_extension": ".py",
   "mimetype": "text/x-python",
   "name": "python",
   "nbconvert_exporter": "python",
   "pygments_lexer": "ipython3",
   "version": "3.7.9"
  }
 },
 "nbformat": 4,
 "nbformat_minor": 5
}
