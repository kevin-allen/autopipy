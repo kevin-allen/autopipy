{
 "cells": [
  {
   "cell_type": "markdown",
   "id": "representative-photographer",
   "metadata": {},
   "source": [
    "# Video processing\n",
    "\n",
    "We will implement the first steps of video processing for a single recording session.\n",
    "\n",
    "We need to do apply a mask and crop the original video for the best and fastest position tracking using deeplabcut.\n",
    "\n",
    "Here are the steps done below.\n",
    "\n",
    "With the `arena_top.avi` file\n",
    "\n",
    "* Detect the bridge and arena in arena_top.avi\n",
    "* Crop the arena_top.avi to 480x480\n",
    "\n",
    "With the cropped video\n",
    "\n",
    "* Detect arena in cropped video\n",
    "* Detect bridge in cropped video\n",
    "* Detect the mouse and lever in cropped video\n"
   ]
  },
  {
   "cell_type": "code",
   "execution_count": 1,
   "id": "based-difficulty",
   "metadata": {},
   "outputs": [],
   "source": [
    "import os.path\n",
    "import importlib\n",
    "import autopipy"
   ]
  },
  {
   "cell_type": "markdown",
   "id": "eleven-click",
   "metadata": {},
   "source": [
    "## Create a session object"
   ]
  },
  {
   "cell_type": "markdown",
   "id": "progressive-thought",
   "metadata": {},
   "source": [
    "The next 3 variables needs to be set according to the session you want to analyze and the folder containing your deeplabcut models."
   ]
  },
  {
   "cell_type": "code",
   "execution_count": 2,
   "id": "atlantic-differential",
   "metadata": {},
   "outputs": [],
   "source": [
    "sessionName=\"mn4656-04102019-1436\"\n",
    "sessionPath=\"/adata/electro/mn4656/\"+sessionName\n",
    "modelDir=\"/adata/models\""
   ]
  },
  {
   "cell_type": "code",
   "execution_count": 4,
   "id": "bored-timber",
   "metadata": {},
   "outputs": [
    {
     "name": "stdout",
     "output_type": "stream",
     "text": [
      "<class 'autopipy.session.session'>\n",
      "name = mn4656-04102019-1436\n",
      "path = /adata/electro/mn4656/mn4656-04102019-1436\n",
      "fileBase = /adata/electro/mn4656/mn4656-04102019-1436/mn4656-04102019-1436\n",
      "arenaTopVideo = True\n",
      "homeBaseVideo = True\n",
      "requiredFileExts = ['log', 'protocol', 'arena_top.avi', 'arena_top.log', 'home_base.avi', 'home_base.log']\n",
      "dirOk = True\n",
      "arenaTopCropped = True\n",
      "fileNames = {'log': '/adata/electro/mn4656/mn4656-04102019-1436/mn4656-04102019-1436.log', 'protocol': '/adata/electro/mn4656/mn4656-04102019-1436/mn4656-04102019-1436.protocol', 'arena_top.avi': '/adata/electro/mn4656/mn4656-04102019-1436/mn4656-04102019-1436.arena_top.avi', 'arena_top.cropped.avi': '/adata/electro/mn4656/mn4656-04102019-1436/mn4656-04102019-1436.arena_top.cropped.avi'}\n"
     ]
    }
   ],
   "source": [
    "from autopipy.session import session\n",
    "#from session import session\n",
    "s = session(path=sessionPath,name=sessionName)\n",
    "print(s)"
   ]
  },
  {
   "cell_type": "markdown",
   "id": "earlier-briefs",
   "metadata": {},
   "source": [
    "## Detect the arena\n",
    "\n",
    "We start with a 640x480 pixels video of the arena. \n",
    "\n",
    "We will detect the arena in it using the first 100 frames."
   ]
  },
  {
   "cell_type": "code",
   "execution_count": 6,
   "id": "mathematical-latest",
   "metadata": {},
   "outputs": [],
   "source": [
    "from autopipy.cvObjectDetectors import arenaDetector"
   ]
  },
  {
   "cell_type": "code",
   "execution_count": 7,
   "id": "demographic-bunch",
   "metadata": {},
   "outputs": [
    {
     "name": "stdout",
     "output_type": "stream",
     "text": [
      "labelImage: /adata/electro/mn4656/mn4656-04102019-1436/arenaDetection.png\n"
     ]
    }
   ],
   "source": [
    "videoFile = s.fileNames[\"arena_top.avi\"] #Nice trick to get file names using a dict\n",
    "arenaImageFile=s.path+\"/arenaDetection.png\"\n",
    "arenaD = arenaDetector()\n",
    "aCoord = arenaD.detectArenaCoordinates(pathVideoFile=videoFile, minRadius=180, \n",
    "                              maxRadius=220, numFrames=100, blur=11, circle='min')\n",
    "arenaD.labelImage(pathVideoFile=videoFile,outputImageFile=arenaImageFile)"
   ]
  },
  {
   "cell_type": "markdown",
   "id": "static-queen",
   "metadata": {},
   "source": [
    "## Detect the bridge\n",
    "\n",
    "Only use the first 100 frames as the bridge is not moving"
   ]
  },
  {
   "cell_type": "code",
   "execution_count": 8,
   "id": "considered-debut",
   "metadata": {},
   "outputs": [],
   "source": [
    "from autopipy.dlcObjectDetectors import bridgeDetector"
   ]
  },
  {
   "cell_type": "code",
   "execution_count": 9,
   "id": "wrong-currency",
   "metadata": {},
   "outputs": [
    {
     "name": "stdout",
     "output_type": "stream",
     "text": [
      "/tmp/tmpVid.avi created for bridge detection\n",
      "Running dlc.analyze_video on /tmp/tmpVid.avi\n",
      "Using snapshot-1030000 for model /adata/models/detectBridgeDLC/arena_top-Allen-2020-08-20/dlc-models/iteration-0/arena_topAug20-trainset95shuffle1\n",
      "Initializing ResNet\n"
     ]
    },
    {
     "ename": "KeyboardInterrupt",
     "evalue": "",
     "output_type": "error",
     "traceback": [
      "\u001b[0;31m---------------------------------------------------------------------------\u001b[0m",
      "\u001b[0;31mKeyboardInterrupt\u001b[0m                         Traceback (most recent call last)",
      "\u001b[0;32m<ipython-input-9-21d8fd630aae>\u001b[0m in \u001b[0;36m<module>\u001b[0;34m\u001b[0m\n\u001b[1;32m      2\u001b[0m \u001b[0mbridgeImageFile\u001b[0m \u001b[0;34m=\u001b[0m \u001b[0ms\u001b[0m\u001b[0;34m.\u001b[0m\u001b[0mpath\u001b[0m\u001b[0;34m+\u001b[0m\u001b[0;34m\"/bridgeDetection.png\"\u001b[0m\u001b[0;34m\u001b[0m\u001b[0;34m\u001b[0m\u001b[0m\n\u001b[1;32m      3\u001b[0m \u001b[0mbridgeD\u001b[0m \u001b[0;34m=\u001b[0m \u001b[0mbridgeDetector\u001b[0m\u001b[0;34m(\u001b[0m\u001b[0mpathConfigFile\u001b[0m\u001b[0;34m=\u001b[0m\u001b[0mconfigFile\u001b[0m\u001b[0;34m)\u001b[0m\u001b[0;34m\u001b[0m\u001b[0;34m\u001b[0m\u001b[0m\n\u001b[0;32m----> 4\u001b[0;31m \u001b[0mbCoord\u001b[0m \u001b[0;34m=\u001b[0m \u001b[0mbridgeD\u001b[0m\u001b[0;34m.\u001b[0m\u001b[0mdetectBridgeCoordinates\u001b[0m\u001b[0;34m(\u001b[0m\u001b[0mpathVideoFile\u001b[0m\u001b[0;34m=\u001b[0m\u001b[0mvideoFile\u001b[0m\u001b[0;34m,\u001b[0m\u001b[0mnumFrames\u001b[0m\u001b[0;34m=\u001b[0m\u001b[0;36m100\u001b[0m\u001b[0;34m,\u001b[0m \u001b[0mskip\u001b[0m\u001b[0;34m=\u001b[0m\u001b[0;36m30\u001b[0m\u001b[0;34m)\u001b[0m\u001b[0;34m\u001b[0m\u001b[0;34m\u001b[0m\u001b[0m\n\u001b[0m\u001b[1;32m      5\u001b[0m \u001b[0mbridgeD\u001b[0m\u001b[0;34m.\u001b[0m\u001b[0mlabelImage\u001b[0m\u001b[0;34m(\u001b[0m\u001b[0mpathVideoFile\u001b[0m\u001b[0;34m=\u001b[0m\u001b[0mvideoFile\u001b[0m\u001b[0;34m,\u001b[0m\u001b[0moutputImageFile\u001b[0m\u001b[0;34m=\u001b[0m\u001b[0mbridgeImageFile\u001b[0m\u001b[0;34m)\u001b[0m\u001b[0;34m\u001b[0m\u001b[0;34m\u001b[0m\u001b[0m\n",
      "\u001b[0;32m~/repo/autopipy/autopipy/dlcObjectDetectors.py\u001b[0m in \u001b[0;36mdetectBridgeCoordinates\u001b[0;34m(self, pathVideoFile, numFrames, skip, tmpDir)\u001b[0m\n\u001b[1;32m    656\u001b[0m \u001b[0;34m\u001b[0m\u001b[0m\n\u001b[1;32m    657\u001b[0m \u001b[0;34m\u001b[0m\u001b[0m\n\u001b[0;32m--> 658\u001b[0;31m         \u001b[0mself\u001b[0m\u001b[0;34m.\u001b[0m\u001b[0minferenceVideo\u001b[0m\u001b[0;34m(\u001b[0m\u001b[0mpathTmpVideo\u001b[0m\u001b[0;34m)\u001b[0m\u001b[0;34m\u001b[0m\u001b[0;34m\u001b[0m\u001b[0m\n\u001b[0m\u001b[1;32m    659\u001b[0m \u001b[0;34m\u001b[0m\u001b[0m\n\u001b[1;32m    660\u001b[0m         \u001b[0;31m# get the position of the bridge, now in self.posi\u001b[0m\u001b[0;34m\u001b[0m\u001b[0;34m\u001b[0m\u001b[0;34m\u001b[0m\u001b[0m\n",
      "\u001b[0;32m~/repo/autopipy/autopipy/dlc.py\u001b[0m in \u001b[0;36minferenceVideo\u001b[0;34m(self, pathVideoFile, saveCsv, overwrite)\u001b[0m\n\u001b[1;32m     66\u001b[0m \u001b[0;34m\u001b[0m\u001b[0m\n\u001b[1;32m     67\u001b[0m         \u001b[0mprint\u001b[0m\u001b[0;34m(\u001b[0m\u001b[0;34m\"Running dlc.analyze_video on \"\u001b[0m\u001b[0;34m+\u001b[0m \u001b[0mpathVideoFile\u001b[0m\u001b[0;34m)\u001b[0m\u001b[0;34m\u001b[0m\u001b[0;34m\u001b[0m\u001b[0m\n\u001b[0;32m---> 68\u001b[0;31m         \u001b[0mdeeplabcut\u001b[0m\u001b[0;34m.\u001b[0m\u001b[0manalyze_videos\u001b[0m\u001b[0;34m(\u001b[0m\u001b[0mself\u001b[0m\u001b[0;34m.\u001b[0m\u001b[0mpathConfigFile\u001b[0m\u001b[0;34m,\u001b[0m\u001b[0;34m[\u001b[0m\u001b[0mpathVideoFile\u001b[0m\u001b[0;34m]\u001b[0m\u001b[0;34m)\u001b[0m\u001b[0;34m\u001b[0m\u001b[0;34m\u001b[0m\u001b[0m\n\u001b[0m\u001b[1;32m     69\u001b[0m \u001b[0;34m\u001b[0m\u001b[0m\n\u001b[1;32m     70\u001b[0m \u001b[0;34m\u001b[0m\u001b[0m\n",
      "\u001b[0;32m~/python_virtual_environments/autopi37/lib/python3.7/site-packages/deeplabcut/pose_estimation_tensorflow/predict_videos.py\u001b[0m in \u001b[0;36manalyze_videos\u001b[0;34m(config, videos, videotype, shuffle, trainingsetindex, gputouse, save_as_csv, destfolder, batchsize, cropping, get_nframesfrommetadata, TFGPUinference, dynamic, modelprefix, c_engine, robust_nframes)\u001b[0m\n\u001b[1;32m    267\u001b[0m     \u001b[0;31m# sess, inputs, outputs = predict.setup_pose_prediction(dlc_cfg)\u001b[0m\u001b[0;34m\u001b[0m\u001b[0;34m\u001b[0m\u001b[0;34m\u001b[0m\u001b[0m\n\u001b[1;32m    268\u001b[0m     \u001b[0;32mif\u001b[0m \u001b[0mTFGPUinference\u001b[0m\u001b[0;34m:\u001b[0m\u001b[0;34m\u001b[0m\u001b[0;34m\u001b[0m\u001b[0m\n\u001b[0;32m--> 269\u001b[0;31m         \u001b[0msess\u001b[0m\u001b[0;34m,\u001b[0m \u001b[0minputs\u001b[0m\u001b[0;34m,\u001b[0m \u001b[0moutputs\u001b[0m \u001b[0;34m=\u001b[0m \u001b[0mpredict\u001b[0m\u001b[0;34m.\u001b[0m\u001b[0msetup_GPUpose_prediction\u001b[0m\u001b[0;34m(\u001b[0m\u001b[0mdlc_cfg\u001b[0m\u001b[0;34m)\u001b[0m\u001b[0;34m\u001b[0m\u001b[0;34m\u001b[0m\u001b[0m\n\u001b[0m\u001b[1;32m    270\u001b[0m     \u001b[0;32melse\u001b[0m\u001b[0;34m:\u001b[0m\u001b[0;34m\u001b[0m\u001b[0;34m\u001b[0m\u001b[0m\n\u001b[1;32m    271\u001b[0m         \u001b[0msess\u001b[0m\u001b[0;34m,\u001b[0m \u001b[0minputs\u001b[0m\u001b[0;34m,\u001b[0m \u001b[0moutputs\u001b[0m \u001b[0;34m=\u001b[0m \u001b[0mpredict\u001b[0m\u001b[0;34m.\u001b[0m\u001b[0msetup_pose_prediction\u001b[0m\u001b[0;34m(\u001b[0m\u001b[0mdlc_cfg\u001b[0m\u001b[0;34m)\u001b[0m\u001b[0;34m\u001b[0m\u001b[0;34m\u001b[0m\u001b[0m\n",
      "\u001b[0;32m~/python_virtual_environments/autopi37/lib/python3.7/site-packages/deeplabcut/pose_estimation_tensorflow/nnet/predict.py\u001b[0m in \u001b[0;36msetup_GPUpose_prediction\u001b[0;34m(cfg)\u001b[0m\n\u001b[1;32m    212\u001b[0m     \u001b[0msess\u001b[0m \u001b[0;34m=\u001b[0m \u001b[0mtf\u001b[0m\u001b[0;34m.\u001b[0m\u001b[0mSession\u001b[0m\u001b[0;34m(\u001b[0m\u001b[0;34m)\u001b[0m\u001b[0;34m\u001b[0m\u001b[0;34m\u001b[0m\u001b[0m\n\u001b[1;32m    213\u001b[0m \u001b[0;34m\u001b[0m\u001b[0m\n\u001b[0;32m--> 214\u001b[0;31m     \u001b[0msess\u001b[0m\u001b[0;34m.\u001b[0m\u001b[0mrun\u001b[0m\u001b[0;34m(\u001b[0m\u001b[0mtf\u001b[0m\u001b[0;34m.\u001b[0m\u001b[0mglobal_variables_initializer\u001b[0m\u001b[0;34m(\u001b[0m\u001b[0;34m)\u001b[0m\u001b[0;34m)\u001b[0m\u001b[0;34m\u001b[0m\u001b[0;34m\u001b[0m\u001b[0m\n\u001b[0m\u001b[1;32m    215\u001b[0m     \u001b[0msess\u001b[0m\u001b[0;34m.\u001b[0m\u001b[0mrun\u001b[0m\u001b[0;34m(\u001b[0m\u001b[0mtf\u001b[0m\u001b[0;34m.\u001b[0m\u001b[0mlocal_variables_initializer\u001b[0m\u001b[0;34m(\u001b[0m\u001b[0;34m)\u001b[0m\u001b[0;34m)\u001b[0m\u001b[0;34m\u001b[0m\u001b[0;34m\u001b[0m\u001b[0m\n\u001b[1;32m    216\u001b[0m \u001b[0;34m\u001b[0m\u001b[0m\n",
      "\u001b[0;32m~/python_virtual_environments/autopi37/lib/python3.7/site-packages/tensorflow_core/python/client/session.py\u001b[0m in \u001b[0;36mrun\u001b[0;34m(self, fetches, feed_dict, options, run_metadata)\u001b[0m\n\u001b[1;32m    954\u001b[0m     \u001b[0;32mtry\u001b[0m\u001b[0;34m:\u001b[0m\u001b[0;34m\u001b[0m\u001b[0;34m\u001b[0m\u001b[0m\n\u001b[1;32m    955\u001b[0m       result = self._run(None, fetches, feed_dict, options_ptr,\n\u001b[0;32m--> 956\u001b[0;31m                          run_metadata_ptr)\n\u001b[0m\u001b[1;32m    957\u001b[0m       \u001b[0;32mif\u001b[0m \u001b[0mrun_metadata\u001b[0m\u001b[0;34m:\u001b[0m\u001b[0;34m\u001b[0m\u001b[0;34m\u001b[0m\u001b[0m\n\u001b[1;32m    958\u001b[0m         \u001b[0mproto_data\u001b[0m \u001b[0;34m=\u001b[0m \u001b[0mtf_session\u001b[0m\u001b[0;34m.\u001b[0m\u001b[0mTF_GetBuffer\u001b[0m\u001b[0;34m(\u001b[0m\u001b[0mrun_metadata_ptr\u001b[0m\u001b[0;34m)\u001b[0m\u001b[0;34m\u001b[0m\u001b[0;34m\u001b[0m\u001b[0m\n",
      "\u001b[0;32m~/python_virtual_environments/autopi37/lib/python3.7/site-packages/tensorflow_core/python/client/session.py\u001b[0m in \u001b[0;36m_run\u001b[0;34m(self, handle, fetches, feed_dict, options, run_metadata)\u001b[0m\n\u001b[1;32m   1178\u001b[0m     \u001b[0;32mif\u001b[0m \u001b[0mfinal_fetches\u001b[0m \u001b[0;32mor\u001b[0m \u001b[0mfinal_targets\u001b[0m \u001b[0;32mor\u001b[0m \u001b[0;34m(\u001b[0m\u001b[0mhandle\u001b[0m \u001b[0;32mand\u001b[0m \u001b[0mfeed_dict_tensor\u001b[0m\u001b[0;34m)\u001b[0m\u001b[0;34m:\u001b[0m\u001b[0;34m\u001b[0m\u001b[0;34m\u001b[0m\u001b[0m\n\u001b[1;32m   1179\u001b[0m       results = self._do_run(handle, final_targets, final_fetches,\n\u001b[0;32m-> 1180\u001b[0;31m                              feed_dict_tensor, options, run_metadata)\n\u001b[0m\u001b[1;32m   1181\u001b[0m     \u001b[0;32melse\u001b[0m\u001b[0;34m:\u001b[0m\u001b[0;34m\u001b[0m\u001b[0;34m\u001b[0m\u001b[0m\n\u001b[1;32m   1182\u001b[0m       \u001b[0mresults\u001b[0m \u001b[0;34m=\u001b[0m \u001b[0;34m[\u001b[0m\u001b[0;34m]\u001b[0m\u001b[0;34m\u001b[0m\u001b[0;34m\u001b[0m\u001b[0m\n",
      "\u001b[0;32m~/python_virtual_environments/autopi37/lib/python3.7/site-packages/tensorflow_core/python/client/session.py\u001b[0m in \u001b[0;36m_do_run\u001b[0;34m(self, handle, target_list, fetch_list, feed_dict, options, run_metadata)\u001b[0m\n\u001b[1;32m   1357\u001b[0m     \u001b[0;32mif\u001b[0m \u001b[0mhandle\u001b[0m \u001b[0;32mis\u001b[0m \u001b[0;32mNone\u001b[0m\u001b[0;34m:\u001b[0m\u001b[0;34m\u001b[0m\u001b[0;34m\u001b[0m\u001b[0m\n\u001b[1;32m   1358\u001b[0m       return self._do_call(_run_fn, feeds, fetches, targets, options,\n\u001b[0;32m-> 1359\u001b[0;31m                            run_metadata)\n\u001b[0m\u001b[1;32m   1360\u001b[0m     \u001b[0;32melse\u001b[0m\u001b[0;34m:\u001b[0m\u001b[0;34m\u001b[0m\u001b[0;34m\u001b[0m\u001b[0m\n\u001b[1;32m   1361\u001b[0m       \u001b[0;32mreturn\u001b[0m \u001b[0mself\u001b[0m\u001b[0;34m.\u001b[0m\u001b[0m_do_call\u001b[0m\u001b[0;34m(\u001b[0m\u001b[0m_prun_fn\u001b[0m\u001b[0;34m,\u001b[0m \u001b[0mhandle\u001b[0m\u001b[0;34m,\u001b[0m \u001b[0mfeeds\u001b[0m\u001b[0;34m,\u001b[0m \u001b[0mfetches\u001b[0m\u001b[0;34m)\u001b[0m\u001b[0;34m\u001b[0m\u001b[0;34m\u001b[0m\u001b[0m\n",
      "\u001b[0;32m~/python_virtual_environments/autopi37/lib/python3.7/site-packages/tensorflow_core/python/client/session.py\u001b[0m in \u001b[0;36m_do_call\u001b[0;34m(self, fn, *args)\u001b[0m\n\u001b[1;32m   1363\u001b[0m   \u001b[0;32mdef\u001b[0m \u001b[0m_do_call\u001b[0m\u001b[0;34m(\u001b[0m\u001b[0mself\u001b[0m\u001b[0;34m,\u001b[0m \u001b[0mfn\u001b[0m\u001b[0;34m,\u001b[0m \u001b[0;34m*\u001b[0m\u001b[0margs\u001b[0m\u001b[0;34m)\u001b[0m\u001b[0;34m:\u001b[0m\u001b[0;34m\u001b[0m\u001b[0;34m\u001b[0m\u001b[0m\n\u001b[1;32m   1364\u001b[0m     \u001b[0;32mtry\u001b[0m\u001b[0;34m:\u001b[0m\u001b[0;34m\u001b[0m\u001b[0;34m\u001b[0m\u001b[0m\n\u001b[0;32m-> 1365\u001b[0;31m       \u001b[0;32mreturn\u001b[0m \u001b[0mfn\u001b[0m\u001b[0;34m(\u001b[0m\u001b[0;34m*\u001b[0m\u001b[0margs\u001b[0m\u001b[0;34m)\u001b[0m\u001b[0;34m\u001b[0m\u001b[0;34m\u001b[0m\u001b[0m\n\u001b[0m\u001b[1;32m   1366\u001b[0m     \u001b[0;32mexcept\u001b[0m \u001b[0merrors\u001b[0m\u001b[0;34m.\u001b[0m\u001b[0mOpError\u001b[0m \u001b[0;32mas\u001b[0m \u001b[0me\u001b[0m\u001b[0;34m:\u001b[0m\u001b[0;34m\u001b[0m\u001b[0;34m\u001b[0m\u001b[0m\n\u001b[1;32m   1367\u001b[0m       \u001b[0mmessage\u001b[0m \u001b[0;34m=\u001b[0m \u001b[0mcompat\u001b[0m\u001b[0;34m.\u001b[0m\u001b[0mas_text\u001b[0m\u001b[0;34m(\u001b[0m\u001b[0me\u001b[0m\u001b[0;34m.\u001b[0m\u001b[0mmessage\u001b[0m\u001b[0;34m)\u001b[0m\u001b[0;34m\u001b[0m\u001b[0;34m\u001b[0m\u001b[0m\n",
      "\u001b[0;32m~/python_virtual_environments/autopi37/lib/python3.7/site-packages/tensorflow_core/python/client/session.py\u001b[0m in \u001b[0;36m_run_fn\u001b[0;34m(feed_dict, fetch_list, target_list, options, run_metadata)\u001b[0m\n\u001b[1;32m   1348\u001b[0m       \u001b[0mself\u001b[0m\u001b[0;34m.\u001b[0m\u001b[0m_extend_graph\u001b[0m\u001b[0;34m(\u001b[0m\u001b[0;34m)\u001b[0m\u001b[0;34m\u001b[0m\u001b[0;34m\u001b[0m\u001b[0m\n\u001b[1;32m   1349\u001b[0m       return self._call_tf_sessionrun(options, feed_dict, fetch_list,\n\u001b[0;32m-> 1350\u001b[0;31m                                       target_list, run_metadata)\n\u001b[0m\u001b[1;32m   1351\u001b[0m \u001b[0;34m\u001b[0m\u001b[0m\n\u001b[1;32m   1352\u001b[0m     \u001b[0;32mdef\u001b[0m \u001b[0m_prun_fn\u001b[0m\u001b[0;34m(\u001b[0m\u001b[0mhandle\u001b[0m\u001b[0;34m,\u001b[0m \u001b[0mfeed_dict\u001b[0m\u001b[0;34m,\u001b[0m \u001b[0mfetch_list\u001b[0m\u001b[0;34m)\u001b[0m\u001b[0;34m:\u001b[0m\u001b[0;34m\u001b[0m\u001b[0;34m\u001b[0m\u001b[0m\n",
      "\u001b[0;32m~/python_virtual_environments/autopi37/lib/python3.7/site-packages/tensorflow_core/python/client/session.py\u001b[0m in \u001b[0;36m_call_tf_sessionrun\u001b[0;34m(self, options, feed_dict, fetch_list, target_list, run_metadata)\u001b[0m\n\u001b[1;32m   1441\u001b[0m     return tf_session.TF_SessionRun_wrapper(self._session, options, feed_dict,\n\u001b[1;32m   1442\u001b[0m                                             \u001b[0mfetch_list\u001b[0m\u001b[0;34m,\u001b[0m \u001b[0mtarget_list\u001b[0m\u001b[0;34m,\u001b[0m\u001b[0;34m\u001b[0m\u001b[0;34m\u001b[0m\u001b[0m\n\u001b[0;32m-> 1443\u001b[0;31m                                             run_metadata)\n\u001b[0m\u001b[1;32m   1444\u001b[0m \u001b[0;34m\u001b[0m\u001b[0m\n\u001b[1;32m   1445\u001b[0m   \u001b[0;32mdef\u001b[0m \u001b[0m_call_tf_sessionprun\u001b[0m\u001b[0;34m(\u001b[0m\u001b[0mself\u001b[0m\u001b[0;34m,\u001b[0m \u001b[0mhandle\u001b[0m\u001b[0;34m,\u001b[0m \u001b[0mfeed_dict\u001b[0m\u001b[0;34m,\u001b[0m \u001b[0mfetch_list\u001b[0m\u001b[0;34m)\u001b[0m\u001b[0;34m:\u001b[0m\u001b[0;34m\u001b[0m\u001b[0;34m\u001b[0m\u001b[0m\n",
      "\u001b[0;31mKeyboardInterrupt\u001b[0m: "
     ]
    }
   ],
   "source": [
    "configFile = modelDir+\"/detectBridgeDLC/arena_top-Allen-2020-08-20/config.yaml\"\n",
    "bridgeImageFile = s.path+\"/bridgeDetection.png\"\n",
    "bridgeD = bridgeDetector(pathConfigFile=configFile)\n",
    "bCoord = bridgeD.detectBridgeCoordinates(pathVideoFile=videoFile,numFrames=100, skip=30)\n",
    "bridgeD.labelImage(pathVideoFile=videoFile,outputImageFile=bridgeImageFile)"
   ]
  },
  {
   "cell_type": "markdown",
   "id": "finished-district",
   "metadata": {},
   "source": [
    "## Mask and crop the video to 480 x 480\n",
    "\n",
    "We now need to create a mask to set the pixels outside of the arena to 0. \n",
    "This will prevent detecting the mouse away from the arena (false positive).\n",
    "\n",
    "The 480 x  480 pixels is used to detect the mouse and the lever during the task."
   ]
  },
  {
   "cell_type": "code",
   "execution_count": 17,
   "id": "crazy-vietnam",
   "metadata": {},
   "outputs": [],
   "source": [
    "from autopipy.video_utilities import maskCropVideoToBridgeArena"
   ]
  },
  {
   "cell_type": "code",
   "execution_count": 18,
   "id": "diagnostic-sport",
   "metadata": {},
   "outputs": [
    {
     "name": "stdout",
     "output_type": "stream",
     "text": [
      "Cropping and masking 108552 frames in /adata/electro/mn4656/mn4656-04102019-1436/mn4656-04102019-1436.arena_top.avi\n",
      "Output file /adata/electro/mn4656/mn4656-04102019-1436/mn4656-04102019-1436.arena_top.cropped.avi\n",
      "108550 of 108552 frames\n",
      "Exiting. Video saved as /adata/electro/mn4656/mn4656-04102019-1436/mn4656-04102019-1436.arena_top.cropped.avi\n"
     ]
    }
   ],
   "source": [
    "videoFile=s.fileNames[\"arena_top.avi\"]\n",
    "croppedVideoFile = os.path.splitext(videoFile)[0]+\".cropped.avi\"\n",
    "maskCropVideoToBridgeArena(pathVideoFile=videoFile, pathOutputFile=croppedVideoFile, \n",
    "                           arenaCoordinates=aCoord, bridgeCoordinates = bCoord)"
   ]
  },
  {
   "cell_type": "markdown",
   "id": "animated-garlic",
   "metadata": {},
   "source": [
    "## Detect the mouse and lever in the cropped video\n",
    "\n",
    "This is the position data used for most of the analysis."
   ]
  },
  {
   "cell_type": "code",
   "execution_count": 19,
   "id": "aggregate-insert",
   "metadata": {},
   "outputs": [],
   "source": [
    "from autopipy.dlcObjectDetectors import mouseLeverDetector"
   ]
  },
  {
   "cell_type": "code",
   "execution_count": 20,
   "id": "satisfied-geneva",
   "metadata": {},
   "outputs": [],
   "source": [
    "configFile=modelDir+\"/arena_top-Allen-2019-10-30/config.yaml\"\n",
    "croppedVideoFile = os.path.splitext(videoFile)[0]+\".cropped.avi\"\n",
    "mouseLeverD = mouseLeverDetector(pathConfigFile=configFile)"
   ]
  },
  {
   "cell_type": "markdown",
   "id": "reverse-grain",
   "metadata": {},
   "source": [
    "Do the inference with the model. It will be faster if your version of DLC is using a GPU."
   ]
  },
  {
   "cell_type": "code",
   "execution_count": 21,
   "id": "warming-checklist",
   "metadata": {},
   "outputs": [
    {
     "name": "stdout",
     "output_type": "stream",
     "text": [
      "Removing previous inference data: /adata/electro/mn4656/mn4656-04102019-1436/mn4656-04102019-1436.arena_top.croppedDLC_resnet_50_arena_topOct30shuffle1_1030000.h5\n",
      "Running dlc.analyze_video on /adata/electro/mn4656/mn4656-04102019-1436/mn4656-04102019-1436.arena_top.cropped.avi\n",
      "Using snapshot-1030000 for model /adata/models/arena_top-Allen-2019-10-30/dlc-models/iteration-0/arena_topOct30-trainset95shuffle1\n",
      "Initializing ResNet\n"
     ]
    },
    {
     "name": "stderr",
     "output_type": "stream",
     "text": [
      "  0%|          | 0/108552 [00:00<?, ?it/s]"
     ]
    },
    {
     "name": "stdout",
     "output_type": "stream",
     "text": [
      "Starting to analyze %  /adata/electro/mn4656/mn4656-04102019-1436/mn4656-04102019-1436.arena_top.cropped.avi\n",
      "/adata/electro/mn4656/mn4656-04102019-1436  already exists!\n",
      "Loading  /adata/electro/mn4656/mn4656-04102019-1436/mn4656-04102019-1436.arena_top.cropped.avi\n",
      "Duration of video [s]:  3618.4 , recorded with  30.0 fps!\n",
      "Overall # of frames:  108552  found with (before cropping) frame dimensions:  480 480\n",
      "Starting to extract posture\n"
     ]
    },
    {
     "name": "stderr",
     "output_type": "stream",
     "text": [
      "109585it [19:28, 93.76it/s]                            "
     ]
    },
    {
     "name": "stdout",
     "output_type": "stream",
     "text": [
      "Detected frames:  108552\n",
      "Saving results in /adata/electro/mn4656/mn4656-04102019-1436...\n"
     ]
    },
    {
     "name": "stderr",
     "output_type": "stream",
     "text": [
      "\n"
     ]
    },
    {
     "name": "stdout",
     "output_type": "stream",
     "text": [
      "The videos are analyzed. Now your research can truly start! \n",
      " You can create labeled videos with 'create_labeled_video'\n",
      "If the tracking is not satisfactory for some videos, consider expanding the training set. You can use the function 'extract_outlier_frames' to extract a few representative outlier frames.\n",
      "Saving position data to /adata/electro/mn4656/mn4656-04102019-1436/mn4656-04102019-1436.arena_top.croppedDLC_resnet_50_arena_topOct30shuffle1_1030000.csv\n"
     ]
    }
   ],
   "source": [
    "mouseLeverD.inferenceVideo(pathVideoFile=croppedVideoFile,overwrite=True)"
   ]
  },
  {
   "cell_type": "code",
   "execution_count": 22,
   "id": "rolled-header",
   "metadata": {},
   "outputs": [],
   "source": [
    "from autopipy.dlcObjectDetectors import mouseLeverDetector"
   ]
  },
  {
   "cell_type": "code",
   "execution_count": 23,
   "id": "stopped-ceiling",
   "metadata": {},
   "outputs": [
    {
     "name": "stdout",
     "output_type": "stream",
     "text": [
      "Saving labeled video in /adata/electro/mn4656/mn4656-04102019-1436/mn4656-04102019-1436.arena_top.cropped.labeled.avi\n",
      "108550 of 108552 frames"
     ]
    }
   ],
   "source": [
    "labeledVideoFile = os.path.splitext(croppedVideoFile)[0]+\".labeled.avi\"\n",
    "mouseLeverD.labelVideoMouseLever(pathVideoFile=croppedVideoFile,pathOutputFile=labeledVideoFile)"
   ]
  },
  {
   "cell_type": "markdown",
   "id": "stable-democrat",
   "metadata": {},
   "source": [
    "## Detect the arena and bridge in the cropped video\n",
    "\n",
    "Now we need to redo the detection of the arena and the bridge on the cropped video. \n",
    "This will be used for the subsequent analysis."
   ]
  },
  {
   "cell_type": "code",
   "execution_count": 24,
   "id": "active-slope",
   "metadata": {},
   "outputs": [
    {
     "name": "stdout",
     "output_type": "stream",
     "text": [
      "labelImage: /adata/electro/mn4656/mn4656-04102019-1436/arenaDetectionCropped.png\n"
     ]
    }
   ],
   "source": [
    "arenaImageFile=s.path+\"/arenaDetectionCropped.png\"\n",
    "arenaD = arenaDetector()\n",
    "aCoord = arenaD.detectArenaCoordinates(pathVideoFile=croppedVideoFile, minRadius=180, \n",
    "                              maxRadius=220, numFrames=100, blur=11, circle='min')\n",
    "arenaD.labelImage(pathVideoFile=croppedVideoFile,outputImageFile=arenaImageFile)"
   ]
  },
  {
   "cell_type": "code",
   "execution_count": 25,
   "id": "helpful-charge",
   "metadata": {},
   "outputs": [
    {
     "name": "stdout",
     "output_type": "stream",
     "text": [
      "/tmp/tmpVid.avi created for bridge detection\n",
      "Running dlc.analyze_video on /tmp/tmpVid.avi\n",
      "Using snapshot-420000 for model /adata/models/bridgeDetection_480_480-Allen-2021-01-23/dlc-models/iteration-0/bridgeDetection_480_480Jan23-trainset90shuffle1\n",
      "Initializing ResNet\n"
     ]
    },
    {
     "name": "stderr",
     "output_type": "stream",
     "text": [
      "  0%|          | 0/100 [00:00<?, ?it/s]"
     ]
    },
    {
     "name": "stdout",
     "output_type": "stream",
     "text": [
      "Starting to analyze %  /tmp/tmpVid.avi\n",
      "/tmp  already exists!\n",
      "Loading  /tmp/tmpVid.avi\n",
      "Duration of video [s]:  3.33 , recorded with  30.0 fps!\n",
      "Overall # of frames:  100  found with (before cropping) frame dimensions:  480 480\n",
      "Starting to extract posture\n"
     ]
    },
    {
     "name": "stderr",
     "output_type": "stream",
     "text": [
      "110it [00:01, 62.26it/s]                        \n"
     ]
    },
    {
     "name": "stdout",
     "output_type": "stream",
     "text": [
      "Detected frames:  100\n",
      "Saving results in /tmp...\n",
      "The videos are analyzed. Now your research can truly start! \n",
      " You can create labeled videos with 'create_labeled_video'\n",
      "If the tracking is not satisfactory for some videos, consider expanding the training set. You can use the function 'extract_outlier_frames' to extract a few representative outlier frames.\n",
      "Saving position data to /tmp/tmpVidDLC_resnet_50_bridgeDetection_480_480Jan23shuffle1_420000.csv\n",
      "labelImage: /adata/electro/mn4656/mn4656-04102019-1436/bridgeDetectionCropped.png\n"
     ]
    }
   ],
   "source": [
    "configFile = modelDir+\"/bridgeDetection_480_480-Allen-2021-01-23/config.yaml\"\n",
    "bridgeImageFile = s.path+\"/bridgeDetectionCropped.png\"\n",
    "bridgeD = bridgeDetector(pathConfigFile=configFile)\n",
    "bCoord = bridgeD.detectBridgeCoordinates(pathVideoFile=croppedVideoFile,numFrames=100, skip=30)\n",
    "bridgeD.labelImage(pathVideoFile=videoFile,outputImageFile=bridgeImageFile)"
   ]
  },
  {
   "cell_type": "markdown",
   "id": "elder-realtor",
   "metadata": {},
   "source": [
    "## Generate a figure to make sure all the video processing steps were successful."
   ]
  },
  {
   "cell_type": "code",
   "execution_count": 31,
   "id": "confidential-gregory",
   "metadata": {},
   "outputs": [],
   "source": [
    "importlib.reload(autopipy.video_utilities)\n",
    "from autopipy.video_utilities import arenaBridgeDetectionImage"
   ]
  },
  {
   "cell_type": "code",
   "execution_count": 32,
   "id": "agricultural-worker",
   "metadata": {},
   "outputs": [
    {
     "name": "stdout",
     "output_type": "stream",
     "text": [
      "labelImage: /adata/electro/mn4656/mn4656-04102019-1436/arenaBridgeDetectionCropped.png\n"
     ]
    }
   ],
   "source": [
    "outputImageFile=s.path+\"/arenaBridgeDetectionCropped.png\"\n",
    "arenaBridgeDetectionImage(pathVideoFile=croppedVideoFile,\n",
    "                          outputImageFile=outputImageFile,\n",
    "                          arenaCoordinates = aCoord,\n",
    "                          bridgeCoordinates = bCoord)"
   ]
  },
  {
   "cell_type": "markdown",
   "id": "quiet-tulsa",
   "metadata": {},
   "source": [
    "Show the image to make sure the video processing and object detection went as planned"
   ]
  },
  {
   "cell_type": "code",
   "execution_count": 33,
   "id": "cognitive-bridal",
   "metadata": {},
   "outputs": [
    {
     "name": "stdout",
     "output_type": "stream",
     "text": [
      "Populating the interactive namespace from numpy and matplotlib\n"
     ]
    },
    {
     "data": {
      "image/png": "[encoded data removed]",
      "text/plain": [
       "<Figure size 432x360 with 1 Axes>"
      ]
     },
     "metadata": {
      "needs_background": "light"
     },
     "output_type": "display_data"
    }
   ],
   "source": [
    "%pylab inline\n",
    "import matplotlib.pyplot as plt\n",
    "import matplotlib.image as mpimg\n",
    "plt.rcParams['figure.figsize'] = [6, 5]\n",
    "img = mpimg.imread(outputImageFile)\n",
    "imgplot = plt.imshow(img)\n",
    "plt.show()"
   ]
  },
  {
   "cell_type": "code",
   "execution_count": null,
   "id": "exclusive-today",
   "metadata": {},
   "outputs": [],
   "source": []
  }
 ],
 "metadata": {
  "kernelspec": {
   "display_name": "Python 3",
   "language": "python",
   "name": "python3"
  },
  "language_info": {
   "codemirror_mode": {
    "name": "ipython",
    "version": 3
   },
   "file_extension": ".py",
   "mimetype": "text/x-python",
   "name": "python",
   "nbconvert_exporter": "python",
   "pygments_lexer": "ipython3",
   "version": "3.7.9"
  }
 },
 "nbformat": 4,
 "nbformat_minor": 5
}
